{
  "metadata": {
    "kernelspec": {
      "language": "python",
      "display_name": "Python 3",
      "name": "python3"
    },
    "language_info": {
      "name": "python",
      "version": "3.10.12",
      "mimetype": "text/x-python",
      "codemirror_mode": {
        "name": "ipython",
        "version": 3
      },
      "pygments_lexer": "ipython3",
      "nbconvert_exporter": "python",
      "file_extension": ".py"
    },
    "kaggle": {
      "accelerator": "none",
      "dataSources": [
        {
          "sourceId": 10980501,
          "sourceType": "datasetVersion",
          "datasetId": 6833340
        },
        {
          "sourceId": 10980838,
          "sourceType": "datasetVersion",
          "datasetId": 6833620
        },
        {
          "sourceId": 10981741,
          "sourceType": "datasetVersion",
          "datasetId": 6834341
        }
      ],
      "dockerImageVersionId": 30918,
      "isInternetEnabled": false,
      "language": "python",
      "sourceType": "notebook",
      "isGpuEnabled": false
    },
    "colab": {
      "name": "notebooke78783fafa",
      "provenance": [],
      "include_colab_link": true
    }
  },
  "nbformat_minor": 0,
  "nbformat": 4,
  "cells": [
    {
      "cell_type": "markdown",
      "metadata": {
        "id": "view-in-github",
        "colab_type": "text"
      },
      "source": [
        "<a href=\"https://colab.research.google.com/github/Begizew2112/ball_bearing/blob/main/notebooke78783fafa.ipynb\" target=\"_parent\"><img src=\"https://colab.research.google.com/assets/colab-badge.svg\" alt=\"Open In Colab\"/></a>"
      ]
    },
    {
      "source": [
        "# IMPORTANT: SOME KAGGLE DATA SOURCES ARE PRIVATE\n",
        "# RUN THIS CELL IN ORDER TO IMPORT YOUR KAGGLE DATA SOURCES.\n",
        "import kagglehub\n",
        "kagglehub.login()\n"
      ],
      "metadata": {
        "id": "eK574HHFZMTD"
      },
      "cell_type": "code",
      "outputs": [],
      "execution_count": null
    },
    {
      "source": [
        "# IMPORTANT: RUN THIS CELL IN ORDER TO IMPORT YOUR KAGGLE DATA SOURCES,\n",
        "# THEN FEEL FREE TO DELETE THIS CELL.\n",
        "# NOTE: THIS NOTEBOOK ENVIRONMENT DIFFERS FROM KAGGLE'S PYTHON\n",
        "# ENVIRONMENT SO THERE MAY BE MISSING LIBRARIES USED BY YOUR\n",
        "# NOTEBOOK.\n",
        "\n",
        "begizewzerihun_first_file_path = kagglehub.dataset_download('begizewzerihun/first-file')\n",
        "begizewzerihun_api_adress_path = kagglehub.dataset_download('begizewzerihun/api-adress')\n",
        "begizewzerihun_bearing_data_path = kagglehub.dataset_download('begizewzerihun/bearing-data')\n",
        "\n",
        "print('Data source import complete.')\n"
      ],
      "metadata": {
        "id": "kYDsb_iFZMTH"
      },
      "cell_type": "code",
      "outputs": [],
      "execution_count": null
    },
    {
      "cell_type": "code",
      "source": [
        "# This Python 3 environment comes with many helpful analytics libraries installed\n",
        "# It is defined by the kaggle/python Docker image: https://github.com/kaggle/docker-python\n",
        "# For example, here's several helpful packages to load\n",
        "\n",
        "import numpy as np # linear algebra\n",
        "import pandas as pd # data processing, CSV file I/O (e.g. pd.read_csv)\n",
        "\n",
        "# Input data files are available in the read-only \"../input/\" directory\n",
        "# For example, running this (by clicking run or pressing Shift+Enter) will list all files under the input directory\n",
        "\n",
        "import os\n",
        "for dirname, _, filenames in os.walk('/kaggle/input'):\n",
        "    for filename in filenames:\n",
        "        print(os.path.join(dirname, filename))\n",
        "\n",
        "# You can write up to 20GB to the current directory (/kaggle/working/) that gets preserved as output when you create a version using \"Save & Run All\"\n",
        "# You can also write temporary files to /kaggle/temp/, but they won't be saved outside of the current session"
      ],
      "metadata": {
        "_uuid": "8f2839f25d086af736a60e9eeb907d3b93b6e0e5",
        "_cell_guid": "b1076dfc-b9ad-4769-8c92-a6c4dae69d19",
        "trusted": true,
        "id": "Uc0m_IIEZMTJ"
      },
      "outputs": [],
      "execution_count": null
    },
    {
      "cell_type": "markdown",
      "source": [
        "load the data properly on the kaggle notebook"
      ],
      "metadata": {
        "id": "J_8rkcmCZMTz"
      }
    },
    {
      "cell_type": "code",
      "source": [
        "import os\n",
        "\n",
        "# List files in the 'data' folder\n",
        "print(os.listdir(\"/kaggle/input/bearing-data/data\"))\n"
      ],
      "metadata": {
        "trusted": true,
        "execution": {
          "iopub.status.busy": "2025-03-10T13:27:41.893743Z",
          "iopub.execute_input": "2025-03-10T13:27:41.894094Z",
          "iopub.status.idle": "2025-03-10T13:27:41.913995Z",
          "shell.execute_reply.started": "2025-03-10T13:27:41.894052Z",
          "shell.execute_reply": "2025-03-10T13:27:41.913158Z"
        },
        "id": "PWfwHvgeZMT2",
        "outputId": "7770ac27-ae18-41c2-86ba-fc8741c524b1"
      },
      "outputs": [
        {
          "name": "stdout",
          "text": "['LogFile_2022-06-23-07-01-31.csv', 'LogFile_2022-06-25-13-02-31.csv', 'LogFile_2022-06-24-00-01-31.csv', 'LogFile_2022-06-21-13-00-31.csv', 'LogFile_2022-06-24-14-02-31.csv', 'LogFile_2022-06-25-22-02-31.csv', 'LogFile_2022-06-23-09-01-31.csv', 'LogFile_2022-06-25-00-02-31.csv', 'LogFile_2022-06-26-00-14-31.csv', 'LogFile_2022-06-22-01-00-31.csv', 'LogFile_2022-06-21-20-00-31.csv', 'LogFile_2022-06-21-02-00-31.csv', 'LogFile_2022-06-22-00-00-31.csv', 'LogFile_2022-06-22-11-00-31.csv', 'LogFile_2022-06-23-14-01-31.csv', 'LogFile_2022-06-25-12-02-31.csv', 'LogFile_2022-06-25-17-02-31.csv', 'LogFile_2022-06-21-14-00-31.csv', 'LogFile_2022-06-24-02-01-31.csv', 'LogFile_2022-06-23-10-01-31.csv', 'LogFile_2022-06-21-03-00-31.csv', 'LogFile_2022-06-21-08-00-31.csv', 'LogFile_2022-06-24-12-01-31.csv', 'LogFile_2022-06-25-08-02-31.csv', 'LogFile_2022-06-22-20-01-31.csv', 'LogFile_2022-06-25-10-02-31.csv', 'LogFile_2022-06-21-07-00-31.csv', 'LogFile_2022-06-22-15-01-31.csv', 'LogFile_2022-06-23-05-01-31.csv', 'LogFile_2022-06-22-03-00-31.csv', 'LogFile_2022-06-24-22-02-31.csv', 'LogFile_2022-06-22-21-01-31.csv', 'LogFile_2022-06-21-17-00-31.csv', 'LogFile_2022-06-23-18-01-31.csv', 'LogFile_2022-06-25-14-02-31.csv', 'LogFile_2022-06-23-23-01-31.csv', 'LogFile_2022-06-22-08-00-31.csv', 'LogFile_2022-06-21-22-00-31.csv', 'LogFile_2022-06-24-05-01-31.csv', 'LogFile_2022-06-24-11-01-31.csv', 'LogFile_2022-06-25-04-02-31.csv', 'LogFile_2022-06-20-20-00-31.csv', 'LogFile_2022-06-22-10-00-31.csv', 'LogFile_2022-06-23-00-01-31.csv', 'LogFile_2022-06-23-16-01-31.csv', 'LogFile_2022-06-21-06-00-31.csv', 'LogFile_2022-06-24-19-02-31.csv', 'LogFile_2022-06-24-20-02-31.csv', 'LogFile_2022-06-22-07-00-31.csv', 'LogFile_2022-06-21-00-00-31.csv', 'LogFile_2022-06-20-17-00-31.csv', 'LogFile_2022-06-23-17-01-31.csv', 'LogFile_2022-06-25-09-02-31.csv', 'LogFile_2022-06-21-16-00-31.csv', 'LogFile_2022-06-24-17-02-31.csv', 'LogFile_2022-06-21-05-00-31.csv', 'LogFile_2022-06-22-22-01-31.csv', 'LogFile_2022-06-21-11-00-31.csv', 'LogFile_2022-06-24-07-01-31.csv', 'LogFile_2022-06-22-23-01-31.csv', 'LogFile_2022-06-22-02-00-31.csv', 'LogFile_2022-06-23-13-01-31.csv', 'LogFile_2022-06-25-01-02-31.csv', 'LogFile_2022-06-24-18-02-31.csv', 'LogFile_2022-06-24-15-02-31.csv', 'LogFile_2022-06-25-11-02-31.csv', 'LogFile_2022-06-22-05-00-31.csv', 'LogFile_2022-06-25-19-02-31.csv', 'LogFile_2022-06-23-08-01-31.csv', 'LogFile_2022-06-20-23-00-31.csv', 'LogFile_2022-06-21-10-00-31.csv', 'LogFile_2022-06-22-19-01-31.csv', 'LogFile_2022-06-25-15-02-31.csv', 'LogFile_2022-06-21-21-00-31.csv', 'LogFile_2022-06-23-20-01-31.csv', 'LogFile_2022-06-23-19-01-31.csv', 'LogFile_2022-06-23-15-01-31.csv', 'LogFile_2022-06-22-16-01-31.csv', 'LogFile_2022-06-22-14-01-31.csv', 'LogFile_2022-06-24-08-01-31.csv', 'LogFile_2022-06-20-18-00-31.csv', 'LogFile_2022-06-25-18-02-31.csv', 'LogFile_2022-06-21-23-00-31.csv', 'LogFile_2022-06-26-01-00-31.csv', 'LogFile_2022-06-21-12-00-31.csv', 'LogFile_2022-06-20-22-00-31.csv', 'LogFile_2022-06-24-09-01-31.csv', 'LogFile_2022-06-21-04-00-31.csv', 'LogFile_2022-06-25-02-02-31.csv', 'LogFile_2022-06-22-06-00-31.csv', 'LogFile_2022-06-24-21-02-31.csv', 'LogFile_2022-06-20-21-00-31.csv', 'LogFile_2022-06-23-02-01-31.csv', 'LogFile_2022-06-23-04-01-31.csv', 'LogFile_2022-06-22-17-01-31.csv', 'LogFile_2022-06-21-19-00-31.csv', 'LogFile_2022-06-25-16-02-31.csv', 'LogFile_2022-06-25-06-02-31.csv', 'LogFile_2022-06-24-23-02-31.csv', 'LogFile_2022-06-22-09-00-31.csv', 'LogFile_2022-06-22-04-00-31.csv', 'LogFile_2022-06-23-21-01-31.csv', 'LogFile_2022-06-23-03-01-31.csv', 'LogFile_2022-06-24-10-01-31.csv', 'LogFile_2022-06-20-19-00-31.csv', 'LogFile_2022-06-23-12-01-31.csv', 'LogFile_2022-06-25-23-14-31.csv', 'LogFile_2022-06-23-22-01-31.csv', 'LogFile_2022-06-21-01-00-31.csv', 'LogFile_2022-06-22-18-01-31.csv', 'LogFile_2022-06-25-07-02-31.csv', 'LogFile_2022-06-24-01-01-31.csv', 'LogFile_2022-06-24-03-01-31.csv', 'LogFile_2022-06-21-18-00-31.csv', 'LogFile_2022-06-23-01-01-31.csv', 'LogFile_2022-06-22-12-01-31.csv', 'LogFile_2022-06-25-20-02-31.csv', 'LogFile_2022-06-24-13-02-31.csv', 'LogFile_2022-06-22-13-01-31.csv', 'LogFile_2022-06-24-16-02-31.csv', 'LogFile_2022-06-21-15-00-31.csv', 'LogFile_2022-06-25-05-02-31.csv', 'LogFile_2022-06-25-21-02-31.csv', 'LogFile_2022-06-25-03-02-31.csv', 'LogFile_2022-06-24-04-01-31.csv', 'LogFile_2022-06-23-06-01-31.csv', 'LogFile_2022-06-24-06-01-31.csv', 'LogFile_2022-06-23-11-01-31.csv', 'LogFile_2022-06-21-09-00-31.csv']\n",
          "output_type": "stream"
        }
      ],
      "execution_count": null
    },
    {
      "cell_type": "code",
      "source": [
        "ddd = pd.read_csv('/kaggle/input/bearing-data/data/LogFile_2022-06-20-17-00-31.csv')\n"
      ],
      "metadata": {
        "trusted": true,
        "execution": {
          "iopub.status.busy": "2025-03-11T08:03:13.969486Z",
          "iopub.execute_input": "2025-03-11T08:03:13.969807Z",
          "iopub.status.idle": "2025-03-11T08:03:15.623425Z",
          "shell.execute_reply.started": "2025-03-11T08:03:13.969777Z",
          "shell.execute_reply": "2025-03-11T08:03:15.62232Z"
        },
        "id": "XGnB9KjQZMT5"
      },
      "outputs": [],
      "execution_count": null
    },
    {
      "cell_type": "code",
      "source": [
        "columns = ['x_direction','y_direction','bearing tem','env temp']\n",
        "ddd.columns =  columns"
      ],
      "metadata": {
        "trusted": true,
        "execution": {
          "iopub.status.busy": "2025-03-11T06:08:01.230429Z",
          "iopub.execute_input": "2025-03-11T06:08:01.230949Z",
          "iopub.status.idle": "2025-03-11T06:08:01.236253Z",
          "shell.execute_reply.started": "2025-03-11T06:08:01.23091Z",
          "shell.execute_reply": "2025-03-11T06:08:01.235069Z"
        },
        "id": "HhYlqpOUZMT6"
      },
      "outputs": [],
      "execution_count": null
    },
    {
      "cell_type": "code",
      "source": [
        "import pandas as pd\n",
        "\n",
        "# Path to the file\n",
        "file_path = '/kaggle/input/bearing-data/data/LogFile_2022-06-20-17-00-31.csv'\n",
        "\n",
        "# Load the data (adjust the number of rows you want to read at once)\n",
        "data1 = pd.read_csv(file_path)\n",
        "\n",
        "# Select every 500th row (index 0, 500, 1000, ...)\n",
        "df1 = data500.iloc[::500]\n",
        "\n",
        "# Store the selected rows into a new CSV file (optional)\n",
        "df1.to_csv('/kaggle/working/selected1_500th_rows.csv', index=False)\n"
      ],
      "metadata": {
        "trusted": true,
        "execution": {
          "iopub.status.busy": "2025-03-11T07:57:05.423948Z",
          "iopub.execute_input": "2025-03-11T07:57:05.424354Z",
          "iopub.status.idle": "2025-03-11T07:57:07.091053Z",
          "shell.execute_reply.started": "2025-03-11T07:57:05.424325Z",
          "shell.execute_reply": "2025-03-11T07:57:07.090056Z"
        },
        "id": "EESj4eBzZMT7"
      },
      "outputs": [],
      "execution_count": null
    },
    {
      "cell_type": "code",
      "source": [
        "# To see the first few rows of the resulting DataFrame\n",
        "df1.shape"
      ],
      "metadata": {
        "trusted": true,
        "execution": {
          "iopub.status.busy": "2025-03-11T07:57:39.267711Z",
          "iopub.execute_input": "2025-03-11T07:57:39.268094Z",
          "iopub.status.idle": "2025-03-11T07:57:39.274174Z",
          "shell.execute_reply.started": "2025-03-11T07:57:39.268063Z",
          "shell.execute_reply": "2025-03-11T07:57:39.273124Z"
        },
        "id": "YRusbfsNZMT8",
        "outputId": "d59d54ee-160f-472e-e9a0-c065f531a7d2"
      },
      "outputs": [
        {
          "execution_count": 86,
          "output_type": "execute_result",
          "data": {
            "text/plain": "(4000, 4)"
          },
          "metadata": {}
        }
      ],
      "execution_count": null
    },
    {
      "cell_type": "markdown",
      "source": [
        "this is the scripts that change the huge data set in to appropiate handled and easy way by iterate to each file ********"
      ],
      "metadata": {
        "id": "ifqYhZOOZMT8"
      }
    },
    {
      "cell_type": "code",
      "source": [
        "import pandas as pd\n",
        "import os\n",
        "from datetime import datetime\n",
        "\n",
        "# New column names\n",
        "columns = ['x_direction', 'y_direction', 'bearing tem', 'env temp']\n",
        "\n",
        "# Path to the directory containing the files\n",
        "data_dir = '/kaggle/input/bearing-data/data'\n",
        "\n",
        "# Path to save the updated files (writable location)\n",
        "output_dir = '/kaggle/working/upd_files/'\n",
        "os.makedirs(output_dir, exist_ok=True)  # Create directory if it doesn't exist\n",
        "\n",
        "# List to hold selected rows\n",
        "all_selected_rows = []\n",
        "\n",
        "# Get all CSV files in the directory\n",
        "file_list = [f for f in os.listdir(data_dir) if f.endswith('.csv')]\n",
        "\n",
        "# Function to extract the timestamp from filenames\n",
        "def extract_timestamp(filename):\n",
        "    try:\n",
        "        timestamp_part = filename.replace(\"LogFile_\", \"\").replace(\".csv\", \"\")  # Remove \"LogFile_\" and \".csv\"\n",
        "        return datetime.strptime(timestamp_part, \"%Y-%m-%d-%H-%M-%S\")  # Correct format\n",
        "    except ValueError:\n",
        "        print(f\"Warning: Skipping file due to incorrect timestamp format -> {filename}\")\n",
        "        return None  # Return None if parsing fails\n",
        "\n",
        "# Extract timestamps and filter out None values\n",
        "file_timestamps = [(f, extract_timestamp(f)) for f in file_list]\n",
        "file_timestamps = [(f, ts) for f, ts in file_timestamps if ts is not None]  # Remove None values\n",
        "\n",
        "# Sort files based on extracted timestamps\n",
        "file_timestamps.sort(key=lambda x: x[1])\n",
        "\n",
        "# Iterate over the sorted files\n",
        "for filename, timestamp in file_timestamps:\n",
        "    file_path = os.path.join(data_dir, filename)\n",
        "\n",
        "    # Load data\n",
        "    df = pd.read_csv(file_path)\n",
        "\n",
        "    # Rename columns\n",
        "    df.columns = columns\n",
        "\n",
        "    # Select every 500th row\n",
        "    df_500th = df.iloc[::500]\n",
        "\n",
        "    # Print sample data\n",
        "    print(f\"Processing {filename}... Selected 500th rows:\")\n",
        "    print(df_500th.head())  # Show first 5 selected rows\n",
        "\n",
        "    # Print last selected row\n",
        "    print(f\"Last selected row in {filename}:\")\n",
        "    print(df_500th.tail(1))\n",
        "\n",
        "    # Add selected rows to list\n",
        "    all_selected_rows.append(df_500th)\n",
        "\n",
        "    print(f\"Processed {filename}, selected {len(df_500th)} rows\\n\")\n",
        "\n",
        "# Combine all selected rows into a single DataFrame\n",
        "final_df = pd.concat(all_selected_rows, ignore_index=True)\n",
        "\n",
        "# Save final DataFrame to CSV\n",
        "final_file_path = os.path.join(output_dir, 'selected_500th_rows.csv')\n",
        "final_df.to_csv(final_file_path, index=False)\n",
        "\n",
        "# Show final combined data\n",
        "print(\"Final combined data (first few rows):\")\n",
        "print(final_df.head())\n"
      ],
      "metadata": {
        "trusted": true,
        "id": "R4S3ckLdZMT9"
      },
      "outputs": [],
      "execution_count": null
    },
    {
      "cell_type": "code",
      "source": [
        "import pandas as pd\n",
        "df_simplified = pd.read_csv(r'/kaggle/working/upd_files/selected_500th_rows.csv')"
      ],
      "metadata": {
        "trusted": true,
        "execution": {
          "iopub.status.busy": "2025-03-11T08:39:58.635082Z",
          "iopub.execute_input": "2025-03-11T08:39:58.635556Z",
          "iopub.status.idle": "2025-03-11T08:39:59.058021Z",
          "shell.execute_reply.started": "2025-03-11T08:39:58.635514Z",
          "shell.execute_reply": "2025-03-11T08:39:59.056919Z"
        },
        "id": "hvln0d0SZMT-"
      },
      "outputs": [],
      "execution_count": null
    },
    {
      "cell_type": "code",
      "source": [
        "df_simplified.head()"
      ],
      "metadata": {
        "trusted": true,
        "execution": {
          "iopub.status.busy": "2025-03-11T08:40:17.261763Z",
          "iopub.execute_input": "2025-03-11T08:40:17.262185Z",
          "iopub.status.idle": "2025-03-11T08:40:17.273921Z",
          "shell.execute_reply.started": "2025-03-11T08:40:17.262146Z",
          "shell.execute_reply": "2025-03-11T08:40:17.2727Z"
        },
        "id": "jaVjSxjJZMT-",
        "outputId": "2e2eff27-d902-4068-e769-253c543e603a"
      },
      "outputs": [
        {
          "execution_count": 174,
          "output_type": "execute_result",
          "data": {
            "text/plain": "   x_direction  y_direction  bearing tem   env temp\n0    -0.117601    -0.378231    41.614912  24.817354\n1     0.912196    -0.221813    41.614912  24.817354\n2    -0.605148     0.464697    41.614912  24.817354\n3    -0.007149    -0.264295    41.614912  24.817354\n4    -0.023456    -0.030204    41.614912  24.817354",
            "text/html": "<div>\n<style scoped>\n    .dataframe tbody tr th:only-of-type {\n        vertical-align: middle;\n    }\n\n    .dataframe tbody tr th {\n        vertical-align: top;\n    }\n\n    .dataframe thead th {\n        text-align: right;\n    }\n</style>\n<table border=\"1\" class=\"dataframe\">\n  <thead>\n    <tr style=\"text-align: right;\">\n      <th></th>\n      <th>x_direction</th>\n      <th>y_direction</th>\n      <th>bearing tem</th>\n      <th>env temp</th>\n    </tr>\n  </thead>\n  <tbody>\n    <tr>\n      <th>0</th>\n      <td>-0.117601</td>\n      <td>-0.378231</td>\n      <td>41.614912</td>\n      <td>24.817354</td>\n    </tr>\n    <tr>\n      <th>1</th>\n      <td>0.912196</td>\n      <td>-0.221813</td>\n      <td>41.614912</td>\n      <td>24.817354</td>\n    </tr>\n    <tr>\n      <th>2</th>\n      <td>-0.605148</td>\n      <td>0.464697</td>\n      <td>41.614912</td>\n      <td>24.817354</td>\n    </tr>\n    <tr>\n      <th>3</th>\n      <td>-0.007149</td>\n      <td>-0.264295</td>\n      <td>41.614912</td>\n      <td>24.817354</td>\n    </tr>\n    <tr>\n      <th>4</th>\n      <td>-0.023456</td>\n      <td>-0.030204</td>\n      <td>41.614912</td>\n      <td>24.817354</td>\n    </tr>\n  </tbody>\n</table>\n</div>"
          },
          "metadata": {}
        }
      ],
      "execution_count": null
    },
    {
      "cell_type": "code",
      "source": [
        "df_simplified.shape"
      ],
      "metadata": {
        "trusted": true,
        "execution": {
          "iopub.status.busy": "2025-03-11T08:44:09.16074Z",
          "iopub.execute_input": "2025-03-11T08:44:09.161234Z",
          "iopub.status.idle": "2025-03-11T08:44:09.167856Z",
          "shell.execute_reply.started": "2025-03-11T08:44:09.161184Z",
          "shell.execute_reply": "2025-03-11T08:44:09.166874Z"
        },
        "id": "zhohz5hDZMT_",
        "outputId": "05b1bcba-3492-4459-8678-b10d352756d8"
      },
      "outputs": [
        {
          "execution_count": 177,
          "output_type": "execute_result",
          "data": {
            "text/plain": "(516000, 4)"
          },
          "metadata": {}
        }
      ],
      "execution_count": null
    },
    {
      "cell_type": "code",
      "source": [
        "df2=df_simplified.copy()"
      ],
      "metadata": {
        "trusted": true,
        "execution": {
          "iopub.status.busy": "2025-03-11T08:44:33.454293Z",
          "iopub.execute_input": "2025-03-11T08:44:33.454658Z",
          "iopub.status.idle": "2025-03-11T08:44:33.476965Z",
          "shell.execute_reply.started": "2025-03-11T08:44:33.454628Z",
          "shell.execute_reply": "2025-03-11T08:44:33.475972Z"
        },
        "id": "cLIG_bg5ZMUA"
      },
      "outputs": [],
      "execution_count": null
    },
    {
      "cell_type": "code",
      "source": [
        "df2.head()"
      ],
      "metadata": {
        "trusted": true,
        "execution": {
          "iopub.status.busy": "2025-03-11T08:44:51.373938Z",
          "iopub.execute_input": "2025-03-11T08:44:51.37432Z",
          "iopub.status.idle": "2025-03-11T08:44:51.386377Z",
          "shell.execute_reply.started": "2025-03-11T08:44:51.374288Z",
          "shell.execute_reply": "2025-03-11T08:44:51.385334Z"
        },
        "id": "fYAfqrO1ZMUA",
        "outputId": "e770566c-2046-4738-f8ca-f1e06bd6b498"
      },
      "outputs": [
        {
          "execution_count": 179,
          "output_type": "execute_result",
          "data": {
            "text/plain": "   x_direction  y_direction  bearing tem   env temp\n0    -0.117601    -0.378231    41.614912  24.817354\n1     0.912196    -0.221813    41.614912  24.817354\n2    -0.605148     0.464697    41.614912  24.817354\n3    -0.007149    -0.264295    41.614912  24.817354\n4    -0.023456    -0.030204    41.614912  24.817354",
            "text/html": "<div>\n<style scoped>\n    .dataframe tbody tr th:only-of-type {\n        vertical-align: middle;\n    }\n\n    .dataframe tbody tr th {\n        vertical-align: top;\n    }\n\n    .dataframe thead th {\n        text-align: right;\n    }\n</style>\n<table border=\"1\" class=\"dataframe\">\n  <thead>\n    <tr style=\"text-align: right;\">\n      <th></th>\n      <th>x_direction</th>\n      <th>y_direction</th>\n      <th>bearing tem</th>\n      <th>env temp</th>\n    </tr>\n  </thead>\n  <tbody>\n    <tr>\n      <th>0</th>\n      <td>-0.117601</td>\n      <td>-0.378231</td>\n      <td>41.614912</td>\n      <td>24.817354</td>\n    </tr>\n    <tr>\n      <th>1</th>\n      <td>0.912196</td>\n      <td>-0.221813</td>\n      <td>41.614912</td>\n      <td>24.817354</td>\n    </tr>\n    <tr>\n      <th>2</th>\n      <td>-0.605148</td>\n      <td>0.464697</td>\n      <td>41.614912</td>\n      <td>24.817354</td>\n    </tr>\n    <tr>\n      <th>3</th>\n      <td>-0.007149</td>\n      <td>-0.264295</td>\n      <td>41.614912</td>\n      <td>24.817354</td>\n    </tr>\n    <tr>\n      <th>4</th>\n      <td>-0.023456</td>\n      <td>-0.030204</td>\n      <td>41.614912</td>\n      <td>24.817354</td>\n    </tr>\n  </tbody>\n</table>\n</div>"
          },
          "metadata": {}
        }
      ],
      "execution_count": null
    },
    {
      "cell_type": "code",
      "source": [
        "df2.isnull().sum()"
      ],
      "metadata": {
        "trusted": true,
        "execution": {
          "iopub.status.busy": "2025-03-11T08:46:50.044089Z",
          "iopub.execute_input": "2025-03-11T08:46:50.044468Z",
          "iopub.status.idle": "2025-03-11T08:46:50.060627Z",
          "shell.execute_reply.started": "2025-03-11T08:46:50.044432Z",
          "shell.execute_reply": "2025-03-11T08:46:50.059384Z"
        },
        "id": "1wkpmj8TZMUA",
        "outputId": "506bc623-7e36-443b-97d4-d16fcc1f3bef"
      },
      "outputs": [
        {
          "execution_count": 185,
          "output_type": "execute_result",
          "data": {
            "text/plain": "x_direction    12\ny_direction    12\nbearing tem     0\nenv temp        0\ndtype: int64"
          },
          "metadata": {}
        }
      ],
      "execution_count": null
    },
    {
      "cell_type": "code",
      "source": [
        "df3=df2.dropna()"
      ],
      "metadata": {
        "trusted": true,
        "execution": {
          "iopub.status.busy": "2025-03-11T08:47:36.478479Z",
          "iopub.execute_input": "2025-03-11T08:47:36.478899Z",
          "iopub.status.idle": "2025-03-11T08:47:36.512786Z",
          "shell.execute_reply.started": "2025-03-11T08:47:36.478859Z",
          "shell.execute_reply": "2025-03-11T08:47:36.511176Z"
        },
        "id": "82vvnwGCZMUB"
      },
      "outputs": [],
      "execution_count": null
    },
    {
      "cell_type": "code",
      "source": [
        "df3.shape"
      ],
      "metadata": {
        "trusted": true,
        "execution": {
          "iopub.status.busy": "2025-03-11T08:47:44.586373Z",
          "iopub.execute_input": "2025-03-11T08:47:44.586719Z",
          "iopub.status.idle": "2025-03-11T08:47:44.592942Z",
          "shell.execute_reply.started": "2025-03-11T08:47:44.586692Z",
          "shell.execute_reply": "2025-03-11T08:47:44.591878Z"
        },
        "id": "-kR7W9LFZMUB",
        "outputId": "572432b4-35f2-4e9a-bb0a-17f11f9caccd"
      },
      "outputs": [
        {
          "execution_count": 188,
          "output_type": "execute_result",
          "data": {
            "text/plain": "(515988, 4)"
          },
          "metadata": {}
        }
      ],
      "execution_count": null
    },
    {
      "cell_type": "code",
      "source": [
        "df3.info()"
      ],
      "metadata": {
        "trusted": true,
        "execution": {
          "iopub.status.busy": "2025-03-11T08:48:25.371226Z",
          "iopub.execute_input": "2025-03-11T08:48:25.371659Z",
          "iopub.status.idle": "2025-03-11T08:48:25.424521Z",
          "shell.execute_reply.started": "2025-03-11T08:48:25.371621Z",
          "shell.execute_reply": "2025-03-11T08:48:25.423373Z"
        },
        "id": "T2ct_HZsZMUB",
        "outputId": "e15500a8-ff36-4607-c267-1027791abaa4"
      },
      "outputs": [
        {
          "name": "stdout",
          "text": "<class 'pandas.core.frame.DataFrame'>\nIndex: 515988 entries, 0 to 515999\nData columns (total 4 columns):\n #   Column       Non-Null Count   Dtype  \n---  ------       --------------   -----  \n 0   x_direction  515988 non-null  float64\n 1   y_direction  515988 non-null  float64\n 2   bearing tem  515988 non-null  float64\n 3   env temp     515988 non-null  float64\ndtypes: float64(4)\nmemory usage: 19.7 MB\n",
          "output_type": "stream"
        }
      ],
      "execution_count": null
    },
    {
      "cell_type": "code",
      "source": [],
      "metadata": {
        "trusted": true,
        "id": "7gYIEn3IZMUC"
      },
      "outputs": [],
      "execution_count": null
    },
    {
      "cell_type": "markdown",
      "source": [],
      "metadata": {
        "id": "22JHthAKZMUC"
      }
    }
  ]
}