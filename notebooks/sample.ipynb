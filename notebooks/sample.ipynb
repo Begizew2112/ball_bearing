{
 "cells": [
  {
   "cell_type": "code",
   "execution_count": 1,
   "metadata": {},
   "outputs": [],
   "source": [
    "import pandas  as pd \n",
    "import numpy as np "
   ]
  },
  {
   "cell_type": "code",
   "execution_count": 3,
   "metadata": {},
   "outputs": [],
   "source": [
    "df = pd.read_csv(r'C:\\Users\\Yibabe\\Desktop\\ball_bearing\\data\\LogFile_2022-06-20-17-00-31.csv') "
   ]
  },
  {
   "cell_type": "code",
   "execution_count": 4,
   "metadata": {},
   "outputs": [
    {
     "name": "stderr",
     "output_type": "stream",
     "text": [
      "c:\\Users\\Yibabe\\Desktop\\ball_bearing\\venv\\Lib\\site-packages\\numpy\\_core\\fromnumeric.py:57: FutureWarning: 'DataFrame.swapaxes' is deprecated and will be removed in a future version. Please use 'DataFrame.transpose' instead.\n",
      "  return bound(*args, **kwds)\n"
     ]
    }
   ],
   "source": [
    "\n",
    "# Split the DataFrame into 10 equal parts\n",
    "df_parts = np.array_split(df, 10)\n",
    "\n",
    "# Save each part as a separate CSV file (optional)\n",
    "for i, part in enumerate(df_parts, 1):\n",
    "    part.to_csv(f'C:\\\\Users\\\\Yibabe\\\\Desktop\\\\ball_bearing\\\\data\\\\LogFile_part_{i}.csv', index=False)\n",
    "\n",
    "# If you want to access each part separately, you can do:\n",
    "df1, df2, df3, df4, df5, df6, df7, df8, df9, df10 = df_parts\n"
   ]
  },
  {
   "cell_type": "code",
   "execution_count": 16,
   "metadata": {},
   "outputs": [],
   "source": [
    "df1 = pd.read_csv(r\"C:\\Users\\Yibabe\\Desktop\\ball_bearing\\data\\LogFile_part_1.csv\")"
   ]
  },
  {
   "cell_type": "code",
   "execution_count": 17,
   "metadata": {},
   "outputs": [],
   "source": [
    "# Assign proper column names\n",
    "columns = ['x_direction', 'y_direction', 'T_bearing', 'T_env']\n",
    "df1.columns = columns"
   ]
  },
  {
   "cell_type": "code",
   "execution_count": 19,
   "metadata": {},
   "outputs": [
    {
     "data": {
      "text/html": [
       "<div>\n",
       "<style scoped>\n",
       "    .dataframe tbody tr th:only-of-type {\n",
       "        vertical-align: middle;\n",
       "    }\n",
       "\n",
       "    .dataframe tbody tr th {\n",
       "        vertical-align: top;\n",
       "    }\n",
       "\n",
       "    .dataframe thead th {\n",
       "        text-align: right;\n",
       "    }\n",
       "</style>\n",
       "<table border=\"1\" class=\"dataframe\">\n",
       "  <thead>\n",
       "    <tr style=\"text-align: right;\">\n",
       "      <th></th>\n",
       "      <th>x_direction</th>\n",
       "      <th>y_direction</th>\n",
       "      <th>T_bearing</th>\n",
       "      <th>T_env</th>\n",
       "    </tr>\n",
       "  </thead>\n",
       "  <tbody>\n",
       "    <tr>\n",
       "      <th>0</th>\n",
       "      <td>-0.117601</td>\n",
       "      <td>-0.378231</td>\n",
       "      <td>41.614912</td>\n",
       "      <td>24.817354</td>\n",
       "    </tr>\n",
       "    <tr>\n",
       "      <th>1</th>\n",
       "      <td>-0.125842</td>\n",
       "      <td>-0.447849</td>\n",
       "      <td>41.614912</td>\n",
       "      <td>24.817354</td>\n",
       "    </tr>\n",
       "    <tr>\n",
       "      <th>2</th>\n",
       "      <td>0.174730</td>\n",
       "      <td>-0.201366</td>\n",
       "      <td>41.614912</td>\n",
       "      <td>24.817354</td>\n",
       "    </tr>\n",
       "    <tr>\n",
       "      <th>3</th>\n",
       "      <td>0.298664</td>\n",
       "      <td>-0.093859</td>\n",
       "      <td>41.614912</td>\n",
       "      <td>24.817354</td>\n",
       "    </tr>\n",
       "    <tr>\n",
       "      <th>4</th>\n",
       "      <td>0.235976</td>\n",
       "      <td>-0.049856</td>\n",
       "      <td>41.614912</td>\n",
       "      <td>24.817354</td>\n",
       "    </tr>\n",
       "  </tbody>\n",
       "</table>\n",
       "</div>"
      ],
      "text/plain": [
       "   x_direction  y_direction  T_bearing      T_env\n",
       "0    -0.117601    -0.378231  41.614912  24.817354\n",
       "1    -0.125842    -0.447849  41.614912  24.817354\n",
       "2     0.174730    -0.201366  41.614912  24.817354\n",
       "3     0.298664    -0.093859  41.614912  24.817354\n",
       "4     0.235976    -0.049856  41.614912  24.817354"
      ]
     },
     "execution_count": 19,
     "metadata": {},
     "output_type": "execute_result"
    }
   ],
   "source": [
    "df1.head()"
   ]
  },
  {
   "cell_type": "code",
   "execution_count": 22,
   "metadata": {},
   "outputs": [],
   "source": [
    "df1 = df1.drop(['T_bearing'],axis = 1)"
   ]
  },
  {
   "cell_type": "code",
   "execution_count": 24,
   "metadata": {},
   "outputs": [],
   "source": [
    "df1 =df1.drop(['T_env'], axis =1)"
   ]
  },
  {
   "cell_type": "code",
   "execution_count": null,
   "metadata": {},
   "outputs": [],
   "source": [
    "# Compute elapsed hours\n",
    "df1['elapsed_hours'] = np.arange(len(df1)) / samples_per_hour *128"
   ]
  },
  {
   "cell_type": "code",
   "execution_count": 26,
   "metadata": {},
   "outputs": [
    {
     "data": {
      "text/html": [
       "<div>\n",
       "<style scoped>\n",
       "    .dataframe tbody tr th:only-of-type {\n",
       "        vertical-align: middle;\n",
       "    }\n",
       "\n",
       "    .dataframe tbody tr th {\n",
       "        vertical-align: top;\n",
       "    }\n",
       "\n",
       "    .dataframe thead th {\n",
       "        text-align: right;\n",
       "    }\n",
       "</style>\n",
       "<table border=\"1\" class=\"dataframe\">\n",
       "  <thead>\n",
       "    <tr style=\"text-align: right;\">\n",
       "      <th></th>\n",
       "      <th>x_direction</th>\n",
       "      <th>y_direction</th>\n",
       "    </tr>\n",
       "  </thead>\n",
       "  <tbody>\n",
       "    <tr>\n",
       "      <th>0</th>\n",
       "      <td>-0.117601</td>\n",
       "      <td>-0.378231</td>\n",
       "    </tr>\n",
       "    <tr>\n",
       "      <th>1</th>\n",
       "      <td>-0.125842</td>\n",
       "      <td>-0.447849</td>\n",
       "    </tr>\n",
       "    <tr>\n",
       "      <th>2</th>\n",
       "      <td>0.174730</td>\n",
       "      <td>-0.201366</td>\n",
       "    </tr>\n",
       "    <tr>\n",
       "      <th>3</th>\n",
       "      <td>0.298664</td>\n",
       "      <td>-0.093859</td>\n",
       "    </tr>\n",
       "    <tr>\n",
       "      <th>4</th>\n",
       "      <td>0.235976</td>\n",
       "      <td>-0.049856</td>\n",
       "    </tr>\n",
       "    <tr>\n",
       "      <th>5</th>\n",
       "      <td>0.053384</td>\n",
       "      <td>-0.182173</td>\n",
       "    </tr>\n",
       "    <tr>\n",
       "      <th>6</th>\n",
       "      <td>-0.190344</td>\n",
       "      <td>-0.536784</td>\n",
       "    </tr>\n",
       "    <tr>\n",
       "      <th>7</th>\n",
       "      <td>-0.266782</td>\n",
       "      <td>-0.599507</td>\n",
       "    </tr>\n",
       "    <tr>\n",
       "      <th>8</th>\n",
       "      <td>-0.239653</td>\n",
       "      <td>-0.493973</td>\n",
       "    </tr>\n",
       "    <tr>\n",
       "      <th>9</th>\n",
       "      <td>-0.132124</td>\n",
       "      <td>-0.393118</td>\n",
       "    </tr>\n",
       "  </tbody>\n",
       "</table>\n",
       "</div>"
      ],
      "text/plain": [
       "   x_direction  y_direction\n",
       "0    -0.117601    -0.378231\n",
       "1    -0.125842    -0.447849\n",
       "2     0.174730    -0.201366\n",
       "3     0.298664    -0.093859\n",
       "4     0.235976    -0.049856\n",
       "5     0.053384    -0.182173\n",
       "6    -0.190344    -0.536784\n",
       "7    -0.266782    -0.599507\n",
       "8    -0.239653    -0.493973\n",
       "9    -0.132124    -0.393118"
      ]
     },
     "execution_count": 26,
     "metadata": {},
     "output_type": "execute_result"
    }
   ],
   "source": [
    "df1.head(10)"
   ]
  },
  {
   "cell_type": "code",
   "execution_count": 44,
   "metadata": {},
   "outputs": [],
   "source": [
    "# Example dataframe with 200,000 rows (Replace this with your actual data)\n",
    "df1= pd.DataFrame({'x_direction': np.random.randn(200000), 'y_direction': np.random.randn(200000)})"
   ]
  },
  {
   "cell_type": "code",
   "execution_count": 45,
   "metadata": {},
   "outputs": [],
   "source": [
    "\n",
    "# Total number of rows\n",
    "total_rows = len(df1)"
   ]
  },
  {
   "cell_type": "code",
   "execution_count": 47,
   "metadata": {},
   "outputs": [],
   "source": [
    "# Compute elapsed hours\n",
    "df1['elapsed_hours'] = (np.arange(total_rows) / total_rows) * 128  "
   ]
  },
  {
   "cell_type": "code",
   "execution_count": 48,
   "metadata": {},
   "outputs": [],
   "source": [
    "# Compute RUL\n",
    "df1['RUL'] = 128 - df1['elapsed_hours']\n"
   ]
  },
  {
   "cell_type": "code",
   "execution_count": 50,
   "metadata": {},
   "outputs": [
    {
     "name": "stdout",
     "output_type": "stream",
     "text": [
      "   x_direction  y_direction  elapsed_hours        RUL\n",
      "0     0.537285     1.210158        0.00000  128.00000\n",
      "1     0.156001     1.489494        0.00064  127.99936\n",
      "2     0.433018     1.463829        0.00128  127.99872\n",
      "3     0.781337    -1.870233        0.00192  127.99808\n",
      "4     1.033820     0.655851        0.00256  127.99744\n",
      "        x_direction  y_direction  elapsed_hours      RUL\n",
      "199995     0.505453    -1.258196      127.99680  0.00320\n",
      "199996     0.192571    -0.541925      127.99744  0.00256\n",
      "199997    -0.507625    -0.285025      127.99808  0.00192\n",
      "199998     0.790620    -0.263432      127.99872  0.00128\n",
      "199999     1.714104    -0.178830      127.99936  0.00064\n"
     ]
    }
   ],
   "source": [
    "print(df1.head())  \n",
    "print(df1.tail())  "
   ]
  },
  {
   "cell_type": "markdown",
   "metadata": {},
   "source": [
    "Normalization Method\n",
    "We'll use MinMaxScaler from sklearn to scale features between 0 and 1 "
   ]
  },
  {
   "cell_type": "code",
   "execution_count": 51,
   "metadata": {},
   "outputs": [],
   "source": [
    "from sklearn.preprocessing import MinMaxScaler\n",
    "\n",
    "# Select features to normalize\n",
    "scaler = MinMaxScaler()\n",
    "# Fit and transform x_direction, y_direction, and RUL\n",
    "df1[['x_direction', 'y_direction', 'RUL']] = scaler.fit_transform(df1[['x_direction', 'y_direction', 'RUL']])"
   ]
  },
  {
   "cell_type": "code",
   "execution_count": 52,
   "metadata": {},
   "outputs": [
    {
     "name": "stdout",
     "output_type": "stream",
     "text": [
      "   x_direction  y_direction  elapsed_hours       RUL\n",
      "0     0.583602     0.634724        0.00000  1.000000\n",
      "1     0.540207     0.666267        0.00064  0.999995\n",
      "2     0.571735     0.663369        0.00128  0.999990\n",
      "3     0.611379     0.286879        0.00192  0.999985\n",
      "4     0.640115     0.572131        0.00256  0.999980\n",
      "        x_direction  y_direction  elapsed_hours       RUL\n",
      "199995     0.579979     0.355992      127.99680  0.000020\n",
      "199996     0.544369     0.436875      127.99744  0.000015\n",
      "199997     0.464677     0.465885      127.99808  0.000010\n",
      "199998     0.612435     0.468323      127.99872  0.000005\n",
      "199999     0.717540     0.477876      127.99936  0.000000\n"
     ]
    }
   ],
   "source": [
    "# Show sample normalized data\n",
    "print(df1.head(5))\n",
    "print(df1.tail(5))"
   ]
  }
 ],
 "metadata": {
  "kernelspec": {
   "display_name": "venv",
   "language": "python",
   "name": "python3"
  },
  "language_info": {
   "codemirror_mode": {
    "name": "ipython",
    "version": 3
   },
   "file_extension": ".py",
   "mimetype": "text/x-python",
   "name": "python",
   "nbconvert_exporter": "python",
   "pygments_lexer": "ipython3",
   "version": "3.12.5"
  }
 },
 "nbformat": 4,
 "nbformat_minor": 2
}
