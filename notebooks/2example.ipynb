{
 "cells": [
  {
   "cell_type": "code",
   "execution_count": 1,
   "metadata": {},
   "outputs": [
    {
     "name": "stdout",
     "output_type": "stream",
     "text": [
      "Workshop Data Shape: (120, 16)\n"
     ]
    }
   ],
   "source": [
    "import numpy as np\n",
    "\n",
    "# Simulate workshop data (2 minutes, sampled at 1 second = 120 timesteps)\n",
    "# Shape: (120 timesteps, 16 features)\n",
    "workshop_data = np.random.rand(120, 16)  # Replace with real data\n",
    "print(f\"Workshop Data Shape: {workshop_data.shape}\")\n"
   ]
  },
  {
   "cell_type": "code",
   "execution_count": 5,
   "metadata": {},
   "outputs": [
    {
     "name": "stdout",
     "output_type": "stream",
     "text": [
      "Sliding Windows Shape: (2, 50, 16)\n"
     ]
    }
   ],
   "source": [
    "# Define the sliding window size (same as training: 50 timesteps)\n",
    "window_size = 50\n",
    "\n",
    "# Generate sliding windows\n",
    "windows = [\n",
    "    workshop_data[i:i + window_size]\n",
    "    for i in range(0, len(workshop_data) - window_size + 1, window_size)\n",
    "]\n",
    "\n",
    "# Convert to a numpy array\n",
    "X_workshop = np.array(windows)  # Shape: (number_of_windows, window_size, features)\n",
    "print(f\"Sliding Windows Shape: {X_workshop.shape}\")\n"
   ]
  },
  {
   "cell_type": "code",
   "execution_count": 8,
   "metadata": {},
   "outputs": [
    {
     "name": "stdout",
     "output_type": "stream",
     "text": [
      "Scaled Data Shape: (2, 50, 16)\n"
     ]
    }
   ],
   "source": [
    "from sklearn.preprocessing import StandardScaler\n",
    "import numpy as np\n",
    "\n",
    "# Original training data (ensure this data matches your training features)\n",
    "training_data_features = np.random.rand(1000, 16)  # Example; replace with actual training data features\n",
    "\n",
    "# Fit the scaler with the training data\n",
    "scaler = StandardScaler()\n",
    "scaler.fit(training_data_features)\n",
    "\n",
    "# Now scale the workshop data using the fitted scaler\n",
    "X_workshop_scaled = scaler.transform(X_workshop.reshape(-1, X_workshop.shape[-1])).reshape(X_workshop.shape)\n",
    "\n",
    "print(f\"Scaled Data Shape: {X_workshop_scaled.shape}\")\n"
   ]
  },
  {
   "cell_type": "code",
   "execution_count": 12,
   "metadata": {},
   "outputs": [
    {
     "ename": "NameError",
     "evalue": "name 'scaler_model' is not defined",
     "output_type": "error",
     "traceback": [
      "\u001b[1;31m---------------------------------------------------------------------------\u001b[0m",
      "\u001b[1;31mNameError\u001b[0m                                 Traceback (most recent call last)",
      "Cell \u001b[1;32mIn[12], line 2\u001b[0m\n\u001b[0;32m      1\u001b[0m \u001b[38;5;66;03m# Load the saved scaler\u001b[39;00m\n\u001b[1;32m----> 2\u001b[0m scaler_loaded \u001b[38;5;241m=\u001b[39m joblib\u001b[38;5;241m.\u001b[39mload(\u001b[43mscaler_model\u001b[49m\u001b[38;5;241m.\u001b[39mjoblib)\n\u001b[0;32m      4\u001b[0m \u001b[38;5;66;03m# Now, you can use this loaded scaler to transform the workshop data\u001b[39;00m\n\u001b[0;32m      5\u001b[0m X_workshop_scaled \u001b[38;5;241m=\u001b[39m scaler_loaded\u001b[38;5;241m.\u001b[39mtransform(X_workshop\u001b[38;5;241m.\u001b[39mreshape(\u001b[38;5;241m-\u001b[39m\u001b[38;5;241m1\u001b[39m, X_workshop\u001b[38;5;241m.\u001b[39mshape[\u001b[38;5;241m-\u001b[39m\u001b[38;5;241m1\u001b[39m]))\u001b[38;5;241m.\u001b[39mreshape(X_workshop\u001b[38;5;241m.\u001b[39mshape)\n",
      "\u001b[1;31mNameError\u001b[0m: name 'scaler_model' is not defined"
     ]
    }
   ],
   "source": [
    "# Load the saved scaler\n",
    "scaler_loaded = joblib.load(scaler_model.joblib)\n",
    "\n",
    "# Now, you can use this loaded scaler to transform the workshop data\n",
    "X_workshop_scaled = scaler_loaded.transform(X_workshop.reshape(-1, X_workshop.shape[-1])).reshape(X_workshop.shape)\n",
    "\n",
    "print(f\"Scaled Workshop Data Shape: {X_workshop_scaled.shape}\")\n",
    "\n"
   ]
  },
  {
   "cell_type": "code",
   "execution_count": null,
   "metadata": {},
   "outputs": [],
   "source": []
  },
  {
   "cell_type": "code",
   "execution_count": null,
   "metadata": {},
   "outputs": [],
   "source": []
  }
 ],
 "metadata": {
  "kernelspec": {
   "display_name": "venv",
   "language": "python",
   "name": "python3"
  },
  "language_info": {
   "codemirror_mode": {
    "name": "ipython",
    "version": 3
   },
   "file_extension": ".py",
   "mimetype": "text/x-python",
   "name": "python",
   "nbconvert_exporter": "python",
   "pygments_lexer": "ipython3",
   "version": "3.12.5"
  }
 },
 "nbformat": 4,
 "nbformat_minor": 2
}
